{
  "nbformat": 4,
  "nbformat_minor": 0,
  "metadata": {
    "colab": {
      "provenance": []
    },
    "kernelspec": {
      "name": "python3",
      "display_name": "Python 3"
    },
    "language_info": {
      "name": "python"
    }
  },
  "cells": [
    {
      "cell_type": "code",
      "execution_count": 20,
      "metadata": {
        "id": "ZXckMg_-j4_a"
      },
      "outputs": [],
      "source": [
        "from google_play_scraper import app, reviews, Sort, reviews\n",
        "import csv\n",
        "import pandas as pd"
      ]
    },
    {
      "cell_type": "code",
      "source": [
        "scrapreview, _ = reviews(\n",
        "    'com.lemon.lvoverseas',\n",
        "    lang='id',\n",
        "    country='id',\n",
        "    sort=Sort.MOST_RELEVANT,\n",
        "    count=10000\n",
        ")"
      ],
      "metadata": {
        "id": "x_8Hf5Kyj-QH"
      },
      "execution_count": 21,
      "outputs": []
    },
    {
      "cell_type": "code",
      "source": [
        "with open('app_reviews.csv', mode='w', newline='', encoding='utf-8') as file :\n",
        "    writer = csv.writer(file)\n",
        "    writer.writerow(['Review'])\n",
        "    for review in scrapreview :\n",
        "        writer.writerow([review['content']])"
      ],
      "metadata": {
        "id": "_HCwFpKck5yJ"
      },
      "execution_count": 22,
      "outputs": []
    }
  ]
}